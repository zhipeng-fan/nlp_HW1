{
 "cells": [
  {
   "cell_type": "code",
   "execution_count": 1,
   "metadata": {},
   "outputs": [],
   "source": [
    "import os\n",
    "import numpy as np\n",
    "import pandas as pd\n",
    "from tqdm import tqdm\n",
    "from glob import glob\n",
    "import random\n",
    "import spacy\n",
    "import time\n",
    "import nltk\n",
    "import copy\n",
    "import string\n",
    "import pdb\n",
    "import concurrent.futures\n",
    "import pickle\n",
    "SEED = 7"
   ]
  },
  {
   "cell_type": "code",
   "execution_count": null,
   "metadata": {},
   "outputs": [],
   "source": [
    "nltk.download('punkt')"
   ]
  },
  {
   "cell_type": "code",
   "execution_count": null,
   "metadata": {},
   "outputs": [],
   "source": [
    "TRAIN_POS_PATH = \"./aclImdb/train/pos/\"\n",
    "TRAIN_NEG_PATH = \"./aclImdb/train/neg/\"\n",
    "TEST_POS_PATH = \"./aclImdb/test/pos/\"\n",
    "TEST_NEG_PATH = \"./aclImdb/test/neg/\""
   ]
  },
  {
   "cell_type": "code",
   "execution_count": null,
   "metadata": {},
   "outputs": [],
   "source": [
    "train_split = int(20000/2)\n",
    "\n",
    "train_pos_paths = glob(os.path.join(TRAIN_POS_PATH, \"*.txt\"))\n",
    "train_neg_paths = glob(os.path.join(TRAIN_NEG_PATH, \"*.txt\"))\n",
    "test_pos_paths = glob(os.path.join(TEST_POS_PATH, \"*.txt\"))\n",
    "test_neg_paths = glob(os.path.join(TEST_NEG_PATH, \"*.txt\"))\n",
    "\n",
    "random.Random(SEED).shuffle(train_pos_paths)\n",
    "random.Random(SEED).shuffle(train_neg_paths)\n",
    "\n",
    "val_pos_paths = train_pos_paths[train_split:]\n",
    "val_neg_paths = train_neg_paths[train_split:]\n",
    "\n",
    "train_pos_paths = train_pos_paths[:train_split]\n",
    "train_neg_paths = train_neg_paths[:train_split]\n",
    "\n",
    "train_paths = train_pos_paths+train_neg_paths\n",
    "val_paths = val_pos_paths+val_neg_paths\n",
    "test_paths = test_pos_paths+test_neg_paths\n",
    "\n",
    "random.Random(SEED).shuffle(train_paths)\n",
    "random.Random(SEED).shuffle(val_paths)\n",
    "random.Random(SEED).shuffle(test_paths)"
   ]
  },
  {
   "cell_type": "code",
   "execution_count": null,
   "metadata": {},
   "outputs": [],
   "source": [
    "print (\"length of the training data: {}\".format(len(train_paths)))\n",
    "print (\"length of the validation data: {}\".format(len(val_paths)))\n",
    "print (\"length of the test data: {}\".format(len(test_paths)))"
   ]
  },
  {
   "cell_type": "code",
   "execution_count": null,
   "metadata": {},
   "outputs": [],
   "source": [
    "def dataset_collection(paths):\n",
    "    data = pd.DataFrame()\n",
    "    id_list = []\n",
    "    label_list = []\n",
    "    text_list = []\n",
    "    \n",
    "    for path in tqdm(paths):\n",
    "        file_name = path.split('/')[-1].split('.')[0]\n",
    "        id_list.append(file_name.split('_')[0])\n",
    "#         label_list.append(int(file_name.split('_')[1])-1)\n",
    "        label_list.append(1 if int(file_name.split('_')[1])>5 else 0)\n",
    "        with open(path, 'r') as f:\n",
    "            text_list.append(f.read())\n",
    "    \n",
    "    data['ID'] = id_list\n",
    "    data['text'] = text_list\n",
    "    data['label'] = label_list    \n",
    "    return data"
   ]
  },
  {
   "cell_type": "code",
   "execution_count": null,
   "metadata": {},
   "outputs": [],
   "source": [
    "training_dataset = dataset_collection(train_paths[:])\n",
    "val_dataset = dataset_collection(val_paths[:])\n",
    "test_dataset =dataset_collection(test_paths[:])"
   ]
  },
  {
   "cell_type": "markdown",
   "metadata": {},
   "source": [
    "### Tokenize"
   ]
  },
  {
   "cell_type": "code",
   "execution_count": null,
   "metadata": {},
   "outputs": [],
   "source": [
    "tokenizer = spacy.load('en_core_web_sm')\n",
    "punctuations = string.punctuation\n",
    "\n",
    "def tokenize_spacy(sent):\n",
    "    tokens = tokenizer(sent)\n",
    "    return [token.text.lower() for token in tokens if token.text not in punctuations]\n",
    "\n",
    "def tokenize_nltk(sent):\n",
    "    tokens = nltk.word_tokenize(sent)\n",
    "    return [token.lower() for token in tokens if token not in punctuations]\n",
    "\n",
    "def tokenize_space(sent):\n",
    "    tokens = sent.split(' ')\n",
    "    return [token.lower() for token in tokens if token not in punctuations]\n",
    "\n",
    "def tokenize_dataset(dataset, mode='spacy'):\n",
    "    data_id = []\n",
    "    data_text = []\n",
    "    data_label = []\n",
    "    all_tokens = []\n",
    "    for idx in tqdm(range(len(dataset))):\n",
    "        if mode == 'spacy':\n",
    "            tokens = tokenize_spacy(dataset.iloc[idx]['text'].replace('<br /><br />', ''))\n",
    "        elif mode == 'nltk':\n",
    "            tokens = tokenize_nltk(dataset.iloc[idx]['text'].replace('<br /><br />', ''))\n",
    "        elif mode == 'space':\n",
    "            tokens = tokenize_space(dataset.iloc[idx]['text'].replace('<br /><br />', ''))\n",
    "        else:\n",
    "            raise ValueError(\"Unrecognized mode!\")\n",
    "        data_id.append(dataset.iloc[idx]['ID'])\n",
    "        data_text.append(tokens)\n",
    "        data_label.append(dataset.iloc[idx]['label'])\n",
    "        all_tokens += tokens\n",
    "    return data_id, data_text, data_label, all_tokens"
   ]
  },
  {
   "cell_type": "code",
   "execution_count": null,
   "metadata": {},
   "outputs": [],
   "source": [
    "# from multiprocessing import Pool\n",
    "# def parallel_tokenize_dataset(df, partitions=8, processes=8):\n",
    "#     # calculate features in parallel by splitting the dataframe into partitions and using parallel processes\n",
    "# #     pdb.set_trace()\n",
    "#     pool = Pool(processes)\n",
    "    \n",
    "#     df_split = np.array_split(df, partitions, axis=0)  # split dataframe into partitions column wise\n",
    "    \n",
    "#     df = pool.map(tokenize_dataset, df_split)\n",
    "#     pool.close()\n",
    "#     pool.join()\n",
    "    \n",
    "#     return df\n",
    "\n",
    "\n",
    "_, train_tokens, train_label, all_tokens = tokenize_dataset(training_dataset, 'spacy')\n",
    "_, val_tokens, val_label, _ = tokenize_dataset(val_dataset, 'spacy')\n",
    "_, test_tokens, test_label, _ = tokenize_dataset(test_dataset,  'spacy')"
   ]
  },
  {
   "cell_type": "raw",
   "metadata": {},
   "source": [
    "pickle.dump(train_tokens_, open('./train_tokens.p', 'wb'))\n",
    "pickle.dump(train_label, open('./train_label_bi.p', 'wb'))\n",
    "pickle.dump(all_tokens_, open('./all_tokens.p', 'wb'))\n",
    "\n",
    "pickle.dump(val_tokens_, open('./val_tokens.p', 'wb'))\n",
    "pickle.dump(val_label, open('./val_label_bi.p', 'wb'))\n",
    "\n",
    "pickle.dump(test_tokens_, open('./test_tokens.p', 'wb'))\n",
    "pickle.dump(test_label, open('./test_label_bi.p', 'wb'))"
   ]
  },
  {
   "cell_type": "code",
   "execution_count": 2,
   "metadata": {},
   "outputs": [],
   "source": [
    "train_tokens=pickle.load(open('./train_tokens.p', 'rb'))\n",
    "train_label=pickle.load(open('./train_label_bi.p', 'rb'))\n",
    "all_tokens=pickle.load(open('./all_tokens.p', 'rb'))\n",
    "\n",
    "val_tokens = pickle.load(open('./val_tokens.p', 'rb'))\n",
    "val_label = pickle.load(open('./val_label_bi.p', 'rb'))\n",
    "\n",
    "test_tokens = pickle.load(open('./test_tokens.p', 'rb'))\n",
    "test_label = pickle.load(open('./test_label_bi.p', 'rb'))"
   ]
  },
  {
   "cell_type": "code",
   "execution_count": 3,
   "metadata": {},
   "outputs": [
    {
     "name": "stderr",
     "output_type": "stream",
     "text": [
      "100%|██████████| 20000/20000 [00:02<00:00, 6716.07it/s]\n",
      "100%|██████████| 5000/5000 [00:00<00:00, 7851.71it/s]\n",
      "100%|██████████| 25000/25000 [00:03<00:00, 7866.48it/s]\n"
     ]
    }
   ],
   "source": [
    "def to_N_gram(dataset, N):\n",
    "    dataset_n_gram = []\n",
    "    all_tokens = []\n",
    "    for data in tqdm(dataset):\n",
    "        n_gram = []\n",
    "        for idx in range(len(data)-N+1):\n",
    "#             pdb.set_trace()\n",
    "            n_gram.append([' '.join(data[idx:idx+N])][0])\n",
    "        dataset_n_gram.append(n_gram)\n",
    "        all_tokens += n_gram\n",
    "    return dataset_n_gram, all_tokens\n",
    "\n",
    "train_tokens_bi, all_tokens_bi = to_N_gram(train_tokens, 2)\n",
    "val_tokens_bi, _ = to_N_gram(val_tokens, 2)\n",
    "test_tokens_bi, _ = to_N_gram(test_tokens, 2)"
   ]
  },
  {
   "cell_type": "code",
   "execution_count": 4,
   "metadata": {},
   "outputs": [
    {
     "name": "stdout",
     "output_type": "stream",
     "text": [
      "Total number of tokens:  1203340\n"
     ]
    }
   ],
   "source": [
    "from collections import Counter\n",
    "\n",
    "VOCABULARY_SIZE = 20000\n",
    "PAD_IDX = 0\n",
    "UNK_IDX = 1 \n",
    "MAX_SENTENCE_LENGTH = 400\n",
    "\n",
    "def build_vocab(all_tokens, VOCABULARY_SIZE=40000):\n",
    "    token_counter = Counter(all_tokens)\n",
    "    print (\"Total number of tokens: \", len(token_counter))\n",
    "    words, freq = zip(*token_counter.most_common(VOCABULARY_SIZE))\n",
    "    id2token = ['<pad>', '<unk>']+list(words)\n",
    "    token2id = dict(zip(id2token, range(2+len(words))))\n",
    "    return id2token, token2id\n",
    "\n",
    "id2token, token2id = build_vocab(all_tokens_bi, VOCABULARY_SIZE)"
   ]
  },
  {
   "cell_type": "code",
   "execution_count": 5,
   "metadata": {},
   "outputs": [
    {
     "name": "stdout",
     "output_type": "stream",
     "text": [
      "Train dataset size is 20000\n",
      "Val dataset size is 5000\n",
      "Test dataset size is 25000\n"
     ]
    }
   ],
   "source": [
    "def token2id_dataset(text_dataset, id2token=id2token, token2id=token2id):\n",
    "    indices_data=[]\n",
    "    for text in text_dataset:\n",
    "        idx_list = [token2id[word] if word in token2id else UNK_IDX for word in text]\n",
    "#         idx_list = idx_list+[PAD_IDX]*(PAD_LEN-len(idx_list))\n",
    "        indices_data.append(idx_list)\n",
    "    return indices_data\n",
    "\n",
    "train_indices = token2id_dataset(train_tokens_bi)\n",
    "val_indices = token2id_dataset(val_tokens_bi)\n",
    "test_indices = token2id_dataset(test_tokens_bi)\n",
    "\n",
    "\n",
    "print (\"Train dataset size is {}\".format(len(train_indices)))\n",
    "print (\"Val dataset size is {}\".format(len(val_indices)))\n",
    "print (\"Test dataset size is {}\".format(len(test_indices)))"
   ]
  },
  {
   "cell_type": "code",
   "execution_count": 6,
   "metadata": {},
   "outputs": [],
   "source": [
    "MAX_SENTENCE_LENGTH = 400\n",
    "\n",
    "import numpy as np\n",
    "import torch\n",
    "from torch.utils.data import Dataset\n",
    "from torch.optim import lr_scheduler\n",
    "\n",
    "class IMDB_Dataset(Dataset):\n",
    "    \"\"\"\n",
    "    Class that represents a train/validation/test dataset that's readable for PyTorch\n",
    "    Note that this class inherits torch.utils.data.Dataset\n",
    "    \"\"\"\n",
    "    \n",
    "    def __init__(self, data_list, target_list, max_length):\n",
    "        \"\"\"\n",
    "        @param data_list: list of newsgroup tokens \n",
    "        @param target_list: list of newsgroup targets \n",
    "\n",
    "        \"\"\"\n",
    "        self.data_list = data_list\n",
    "        self.target_list = target_list\n",
    "        self.MAX_SENTENCE_LENGTH = max_length\n",
    "        assert (len(self.data_list) == len(self.target_list))\n",
    "\n",
    "    def __len__(self):\n",
    "        return len(self.data_list)\n",
    "        \n",
    "    def __getitem__(self, key):\n",
    "        \"\"\"\n",
    "        Triggered when you call dataset[i]\n",
    "        \"\"\"\n",
    "        \n",
    "        token_idx = self.data_list[key][:self.MAX_SENTENCE_LENGTH]\n",
    "        label = self.target_list[key]\n",
    "        return [token_idx, len(token_idx), label]\n",
    "\n",
    "def newsgroup_collate_func(batch):\n",
    "    \"\"\"\n",
    "    Customized function for DataLoader that dynamically pads the batch so that all \n",
    "    data have the same length\n",
    "    \"\"\"\n",
    "    data_list = []\n",
    "    label_list = []\n",
    "    length_list = []\n",
    "    for datum in batch:\n",
    "#         pdb.set_trace()\n",
    "        label_list.append(datum[2])\n",
    "        length_list.append(datum[1])\n",
    "    # padding\n",
    "#     for datum in batch:\n",
    "        padded_vec = np.pad(np.array(datum[0]), \n",
    "                                pad_width=((0, MAX_SENTENCE_LENGTH-datum[1])), \n",
    "                                mode=\"constant\", constant_values=0)\n",
    "        data_list.append(padded_vec)\n",
    "    return [torch.from_numpy(np.array(data_list)), torch.LongTensor(length_list), torch.LongTensor(label_list)]\n",
    "\n",
    "# create pytorch dataloader\n",
    "#train_loader = NewsGroupDataset(train_data_indices, train_targets)\n",
    "#val_loader = NewsGroupDataset(val_data_indices, val_targets)\n",
    "#test_loader = NewsGroupDataset(test_data_indices, test_targets)\n",
    "\n",
    "BATCH_SIZE = 32\n",
    "train_dataset = IMDB_Dataset(train_indices, train_label, MAX_SENTENCE_LENGTH)\n",
    "train_loader = torch.utils.data.DataLoader(dataset=train_dataset, \n",
    "                                           batch_size=BATCH_SIZE,\n",
    "                                           collate_fn=newsgroup_collate_func,\n",
    "                                           shuffle=True)\n",
    "\n",
    "val_dataset = IMDB_Dataset(val_indices, val_label, MAX_SENTENCE_LENGTH)\n",
    "val_loader = torch.utils.data.DataLoader(dataset=val_dataset, \n",
    "                                           batch_size=BATCH_SIZE,\n",
    "                                           collate_fn=newsgroup_collate_func,\n",
    "                                           shuffle=True)\n",
    "\n",
    "test_dataset = IMDB_Dataset(test_indices, test_label, MAX_SENTENCE_LENGTH)\n",
    "test_loader = torch.utils.data.DataLoader(dataset=test_dataset, \n",
    "                                           batch_size=BATCH_SIZE,\n",
    "                                           collate_fn=newsgroup_collate_func,\n",
    "                                           shuffle=False)"
   ]
  },
  {
   "cell_type": "code",
   "execution_count": 7,
   "metadata": {},
   "outputs": [
    {
     "name": "stdout",
     "output_type": "stream",
     "text": [
      "Construct model with vocab size 20002 and emb dim 300\n"
     ]
    }
   ],
   "source": [
    "# First import torch related libraries\n",
    "import torch\n",
    "import torch.nn as nn\n",
    "import torch.nn.functional as F\n",
    "\n",
    "class N_grams(nn.Module):\n",
    "    \"\"\"\n",
    "    BagOfWords classification model\n",
    "    \"\"\"\n",
    "    def __init__(self, vocab_size, emb_dim):\n",
    "        \"\"\"\n",
    "        @param vocab_size: size of the vocabulary. \n",
    "        @param emb_dim: size of the word embedding\n",
    "        \"\"\"\n",
    "        super(N_grams, self).__init__()\n",
    "        # pay attention to padding_idx \n",
    "        print (\"Construct model with vocab size {} and emb dim {}\".format(vocab_size, emb_dim))\n",
    "        self.embed = nn.Embedding(vocab_size, emb_dim, padding_idx=0)\n",
    "        self.linear = nn.Linear(emb_dim,2)\n",
    "    \n",
    "    def forward(self, data, length):\n",
    "        \"\"\"\n",
    "        @param data: matrix of size (batch_size, max_sentence_length). Each row in data represents a \n",
    "            review that is represented using n-gram index. Note that they are padded to have same length.\n",
    "        @param length: an int tensor of size (batch_size), which represents the non-trivial (excludes padding)\n",
    "            length of each sentences in the data.\n",
    "        \"\"\"\n",
    "        out = self.embed(data)\n",
    "        out = torch.sum(out, dim=1)\n",
    "        out /= length.view(length.size()[0],1).expand_as(out).float()\n",
    "     \n",
    "        # return logits\n",
    "        out = self.linear(out.float())\n",
    "        return F.log_softmax(out, dim=1)\n",
    "\n",
    "emb_dim = 300\n",
    "model = N_grams(len(id2token), emb_dim)"
   ]
  },
  {
   "cell_type": "code",
   "execution_count": 8,
   "metadata": {},
   "outputs": [],
   "source": [
    "device = torch.device(\"cuda:0\" if torch.cuda.is_available() else \"cpu\")\n"
   ]
  },
  {
   "cell_type": "code",
   "execution_count": 9,
   "metadata": {},
   "outputs": [],
   "source": [
    "def train_model(model, dataloaders, criterion, optimizer, scheduler, num_epochs=25, early_stopping_patience=2):\n",
    "    since = time.time()\n",
    "    \n",
    "    best_model_wts = copy.deepcopy(model.state_dict())\n",
    "    best_acc = 0.0\n",
    "    prev_best_acc = 0.0\n",
    "    count = 0\n",
    "    train_loss = []\n",
    "    train_acc = []\n",
    "    val_loss = []\n",
    "    val_acc = []\n",
    "\n",
    "    for epoch in range(num_epochs):\n",
    "        print('Epoch {}/{}'.format(epoch, num_epochs - 1))\n",
    "#         print('-' * 10)\n",
    "\n",
    "        # Each epoch has a training and validation phase\n",
    "        for phase in ['train', 'val']:\n",
    "            if phase == 'train':\n",
    "                if scheduler != None:\n",
    "                    scheduler.step()\n",
    "                model.train()  # Set model to training mode\n",
    "            else:\n",
    "                model.eval()   # Set model to evaluate mode\n",
    "\n",
    "            running_loss = 0.0\n",
    "            running_corrects = 0\n",
    "            total = 0\n",
    "\n",
    "            # Iterate over data.\n",
    "            for data_batch, length_batch, label_batch in dataloaders[phase]:\n",
    "#                 pdb.set_trace()\n",
    "                data_batch = data_batch.to(device)\n",
    "                length_batch = length_batch.to(device)\n",
    "                label_batch = label_batch.to(device)\n",
    "\n",
    "                # zero the parameter gradients\n",
    "                optimizer.zero_grad()\n",
    "\n",
    "                # forward\n",
    "                # track history if only in train\n",
    "                with torch.set_grad_enabled(phase == 'train'):\n",
    "                    output_batch = model(data_batch, length_batch)\n",
    "                    pred_batch = output_batch.max(1, keepdim=True)[1]\n",
    "#                     _, preds = torch.max(outputs, 1)\n",
    "                    loss = criterion(output_batch, label_batch)\n",
    "\n",
    "                    # backward + optimize only if in training phase\n",
    "                    if phase == 'train':\n",
    "                        loss.backward()\n",
    "                        optimizer.step()\n",
    "\n",
    "                # statistics\n",
    "                total += label_batch.size(0)\n",
    "                running_loss += loss.item() * data_batch.size(0)\n",
    "                running_corrects += pred_batch.eq(label_batch.view_as(pred_batch)).sum().item()\n",
    "\n",
    "            epoch_loss = running_loss / total\n",
    "            epoch_acc = running_corrects *100 / total\n",
    "            if phase == 'train':\n",
    "                train_loss.append(epoch_loss)\n",
    "                train_acc.append(epoch_acc)\n",
    "            else:\n",
    "                val_loss.append(epoch_loss)\n",
    "                val_acc.append(epoch_acc)\n",
    "\n",
    "            print('{} Loss: {:.4f} Acc: {:.4f}'.format(\n",
    "                phase, epoch_loss, epoch_acc))\n",
    "\n",
    "            # deep copy the model\n",
    "            if phase == 'val' and epoch_acc > best_acc:\n",
    "                best_acc = epoch_acc\n",
    "                best_model_wts = copy.deepcopy(model.state_dict())\n",
    "\n",
    "            if phase == 'val' and epoch_acc > prev_best_acc:\n",
    "                prev_best_acc = epoch_acc\n",
    "                count = 0\n",
    "            else:\n",
    "                count += 1\n",
    "        if count > early_stopping_patience:\n",
    "            break\n",
    "\n",
    "    time_elapsed = time.time() - since\n",
    "    print('Training complete in {:.0f}m {:.0f}s'.format(\n",
    "        time_elapsed // 60, time_elapsed % 60))\n",
    "    print('Best val Acc: {:4f}'.format(best_acc))\n",
    "    log = {'train_loss': train_loss, \"train_acc\": train_acc, \"val_loss\": val_loss, \"val_acc\": val_acc}\n",
    "    # load best model weights\n",
    "    model.load_state_dict(best_model_wts)\n",
    "    return model, log"
   ]
  },
  {
   "cell_type": "code",
   "execution_count": 10,
   "metadata": {},
   "outputs": [],
   "source": [
    "def test_hyper_para_on_val(num_epochs=50, emb_dim=200, vocabulary_size=20000, annealing=False, opm=\"Adam\", lr=0.01, sent_length=400):\n",
    "    print ('-'*100)\n",
    "    print ('Embed dim: {} ; Vocab size: {}; Optim: {}; LR: {}; Annealing: {}; Sent_length: {}'.format(emb_dim, vocabulary_size, opm, lr, annealing, sent_length))\n",
    "    print ('-'*100)\n",
    "#     if vocabulary_size != 40000:\n",
    "    global MAX_SENTENCE_LENGTH\n",
    "    global all_tokens_bi\n",
    "    global train_tokens_bi\n",
    "    global val_tokens_bi\n",
    "    global test_tokens_bi\n",
    "\n",
    "    MAX_SENTENCE_LENGTH = sent_length\n",
    "#     pdb.set_trace()\n",
    "    id2token, token2id = build_vocab(all_tokens_bi, vocabulary_size)\n",
    "    \n",
    "    train_indices = token2id_dataset(train_tokens_bi, id2token=id2token, token2id=token2id)\n",
    "    val_indices = token2id_dataset(val_tokens_bi, id2token=id2token, token2id=token2id)\n",
    "    test_indices = token2id_dataset(test_tokens_bi, id2token=id2token, token2id=token2id)\n",
    "\n",
    "    train_dataset = IMDB_Dataset(train_indices, train_label, sent_length)\n",
    "    train_loader = torch.utils.data.DataLoader(dataset=train_dataset, \n",
    "                                               batch_size=BATCH_SIZE,\n",
    "                                               collate_fn=newsgroup_collate_func,\n",
    "                                               shuffle=True)\n",
    "\n",
    "    val_dataset = IMDB_Dataset(val_indices, val_label, sent_length)\n",
    "    val_loader = torch.utils.data.DataLoader(dataset=val_dataset, \n",
    "                                               batch_size=BATCH_SIZE,\n",
    "                                               collate_fn=newsgroup_collate_func,\n",
    "                                               shuffle=True)\n",
    "\n",
    "    test_dataset = IMDB_Dataset(test_indices, test_label, sent_length)\n",
    "    test_loader = torch.utils.data.DataLoader(dataset=test_dataset, \n",
    "                                               batch_size=BATCH_SIZE,\n",
    "                                               collate_fn=newsgroup_collate_func,\n",
    "                                               shuffle=False)\n",
    "        \n",
    "    \n",
    "    dataloaders = {'train': train_loader, 'val': val_loader}\n",
    "    model = N_grams(len(id2token), emb_dim)\n",
    "    criterion = torch.nn.NLLLoss() \n",
    "    \n",
    "    if opm == 'Adam':\n",
    "        optimizer = torch.optim.Adam(model.parameters(), lr=lr)\n",
    "    elif opm == 'SGD':\n",
    "        optimizer = torch.optim.SGD(model.parameters(), lr=lr, momentum=0.9)\n",
    "    if annealing:\n",
    "        scheduler = lr_scheduler.StepLR(optimizer, step_size=4, gamma=0.5)\n",
    "    else:\n",
    "        scheduler = None\n",
    "    model = model.to(device)\n",
    "    model, log = train_model(model, dataloaders, criterion, optimizer, scheduler, num_epochs)\n",
    "    \n",
    "    print (\"Finished!\")\n",
    "    \n",
    "    return model, log"
   ]
  },
  {
   "cell_type": "markdown",
   "metadata": {},
   "source": [
    "### Ablation Study"
   ]
  },
  {
   "cell_type": "code",
   "execution_count": 12,
   "metadata": {
    "scrolled": true
   },
   "outputs": [
    {
     "name": "stdout",
     "output_type": "stream",
     "text": [
      "----------------------------------------------------------------------------------------------------\n",
      "Embed dim: 200 ; Vocab size: 20000; Optim: SGD; LR: 0.01; Annealing: False; Sent_length: 400\n",
      "----------------------------------------------------------------------------------------------------\n",
      "Total number of tokens:  1203340\n",
      "Construct model with vocab size 20002 and emb dim 200\n",
      "Epoch 0/49\n",
      "train Loss: 0.7221 Acc: 52.2500\n",
      "val Loss: 0.6840 Acc: 53.7400\n",
      "Epoch 1/49\n",
      "train Loss: 0.6841 Acc: 55.6750\n",
      "val Loss: 0.7148 Acc: 50.3000\n",
      "Epoch 2/49\n",
      "train Loss: 0.6770 Acc: 57.3050\n",
      "val Loss: 0.6759 Acc: 55.6200\n",
      "Epoch 3/49\n",
      "train Loss: 0.6687 Acc: 59.3600\n",
      "val Loss: 0.6522 Acc: 62.6600\n",
      "Epoch 4/49\n",
      "train Loss: 0.6587 Acc: 61.0900\n",
      "val Loss: 0.6500 Acc: 60.5000\n",
      "Epoch 5/49\n",
      "train Loss: 0.6480 Acc: 62.4300\n",
      "val Loss: 0.6496 Acc: 61.6800\n",
      "Training complete in 0m 27s\n",
      "Best val Acc: 62.660000\n",
      "Finished!\n",
      "----------------------------------------------------------------------------------------------------\n",
      "Embed dim: 200 ; Vocab size: 20000; Optim: Adam; LR: 0.01; Annealing: False; Sent_length: 400\n",
      "----------------------------------------------------------------------------------------------------\n",
      "Total number of tokens:  1203340\n",
      "Construct model with vocab size 20002 and emb dim 200\n",
      "Epoch 0/49\n",
      "train Loss: 0.4132 Acc: 80.6200\n",
      "val Loss: 0.3205 Acc: 86.6000\n",
      "Epoch 1/49\n",
      "train Loss: 0.1681 Acc: 93.8400\n",
      "val Loss: 0.3768 Acc: 85.3600\n",
      "Epoch 2/49\n",
      "train Loss: 0.0761 Acc: 97.6200\n",
      "val Loss: 0.5433 Acc: 84.0000\n",
      "Training complete in 0m 15s\n",
      "Best val Acc: 86.600000\n",
      "Finished!\n"
     ]
    },
    {
     "data": {
      "text/plain": [
       "(N_grams(\n",
       "   (embed): Embedding(20002, 200, padding_idx=0)\n",
       "   (linear): Linear(in_features=200, out_features=20, bias=True)\n",
       " ),\n",
       " {'train_loss': [0.41321656382083893,\n",
       "   0.16808615270853042,\n",
       "   0.07610243571996689],\n",
       "  'train_acc': [80.62, 93.84, 97.62],\n",
       "  'val_loss': [0.32054340047836305, 0.37680809078216554, 0.5433329518318176],\n",
       "  'val_acc': [86.6, 85.36, 84.0]})"
      ]
     },
     "execution_count": 12,
     "metadata": {},
     "output_type": "execute_result"
    }
   ],
   "source": [
    "# emb_size_test = [100, 200, 300, 400, 500]\n",
    "# for i in emb_size_test:\n",
    "#     test_hyper_para_on_val(emb_dim=i)\n",
    "\n",
    "# vocab_size_test = [20000, 30000, 40000, 50000, 60000]\n",
    "# for i in vocab_size_test:\n",
    "#     test_hyper_para_on_val(vocabulary_size=i)\n",
    "\n",
    "test_hyper_para_on_val(opm='SGD')\n",
    "test_hyper_para_on_val(opm='Adam')\n",
    "\n",
    "# lr_test = [0.1, 0.05, 0.01, 0.005, 0.001, 0.0005]\n",
    "# for i in lr_test:\n",
    "#     test_hyper_para_on_val(lr=i, annealing=False)\n",
    "    \n",
    "# lr_test = [0.1, 0.05, 0.01, 0.005, 0.001, 0.0005]\n",
    "# for i in lr_test:\n",
    "#     test_hyper_para_on_val(lr=i, annealing=False)\n",
    "    \n",
    "# sent_length = [200, 300, 400, 500, 600, 700]\n",
    "# for i in sent_length:\n",
    "#     test_hyper_para_on_val(sent_length=i)\n"
   ]
  },
  {
   "cell_type": "markdown",
   "metadata": {},
   "source": [
    "## Results on validation set"
   ]
  },
  {
   "cell_type": "markdown",
   "metadata": {},
   "source": [
    "|Tokenize schemes|n-gram n:|vocabulary size|embedding size|Optimizer|Learning Rate|Annealing|Validation Accuracy|\n",
    "|:---:|:---:|:---:|:---:|:---:|:---:|:---:|:---:|\n",
    "|Spacy|2|40000|400|Adam|0.01|No|87.52|\n",
    "|NLTK|2|40000|400|Adam|0.01|No|86.64|\n",
    "|SPACE|2|40000|400|Adam|0.01|No|86.52|\n",
    "|Spacy|2|40000|400|Adam|0.01|No|87.52|\n",
    "|Spacy|3|40000|400|Adam|0.01|No|81.66|\n",
    "|Spacy|4|40000|400|Adam|0.01|No|78.34|\n",
    "|Spacy|2|40000|100|Adam|0.01|No|87.74|\n",
    "|Spacy|2|40000|200|Adam|0.01|No|87.96|\n",
    "|Spacy|2|40000|300|Adam|0.01|No|87.16|\n",
    "|Spacy|2|40000|400|Adam|0.01|No|87.46|\n",
    "|Spacy|2|40000|500|Adam|0.01|No|86.10|\n",
    "|Spacy|2|20000|200|Adam|0.01|No|86.76|\n",
    "|Spacy|2|30000|200|Adam|0.01|No|84.98|\n",
    "|Spacy|2|40000|200|Adam|0.01|No|86.3|\n",
    "|Spacy|2|50000|200|Adam|0.01|No|86.12|\n",
    "|Spacy|2|60000|200|Adam|0.01|No|86.30|\n",
    "|Spacy|2|20000|200|SGD|0.01|No|65.4|\n",
    "|Spacy|2|20000|200|Adam|0.01|No|86.68|\n",
    "|Spacy|2|30000|300|Adam|0.1|No|83.54|\n",
    "|Spacy|2|30000|300|Adam|0.05|No|85.3|\n",
    "|Spacy|2|30000|300|Adam|0.01|No|86.22|\n",
    "|Spacy|2|30000|300|Adam|0.005|No|86.36|\n",
    "|Spacy|2|30000|300|Adam|0.001|No|86.96|\n",
    "|Spacy|2|30000|300|Adam|0.0005|No|87.12|\n",
    "|Spacy|2|30000|300|Adam|0.1|Yes|85.98|\n",
    "|Spacy|2|30000|300|Adam|0.05|Yes|86.52|\n",
    "|Spacy|2|30000|300|Adam|0.01|Yes|87.16|\n",
    "|Spacy|2|30000|300|Adam|0.005|Yes|86.36|\n",
    "|Spacy|2|30000|300|Adam|0.001|Yes|87.36|\n",
    "|Spacy|2|30000|300|Adam|0.0005|Yes|86.2|"
   ]
  },
  {
   "cell_type": "markdown",
   "metadata": {},
   "source": [
    "### N-grams N search"
   ]
  },
  {
   "cell_type": "code",
   "execution_count": null,
   "metadata": {},
   "outputs": [],
   "source": [
    "# N=3\n",
    "# Rerun the function to_N_gram(dataset, N) for N=3 and 4\n",
    "# 3009792 different tokens in total\n",
    "def to_N_gram(dataset, N):\n",
    "    dataset_n_gram = []\n",
    "    all_tokens = []\n",
    "    for data in tqdm(dataset):\n",
    "        n_gram = []\n",
    "        for idx in range(len(data)-N+1):\n",
    "#             pdb.set_trace()\n",
    "            n_gram.append([' '.join(data[idx:idx+N])][0])\n",
    "        dataset_n_gram.append(n_gram)\n",
    "        all_tokens += n_gram\n",
    "    return dataset_n_gram, all_tokens\n",
    "\n",
    "train_tokens_bi, all_tokens_bi = to_N_gram(train_tokens, 3)\n",
    "val_tokens_bi, _ = to_N_gram(val_tokens, 3)\n",
    "test_tokens_bi, _ = to_N_gram(test_tokens, 3)"
   ]
  },
  {
   "cell_type": "code",
   "execution_count": null,
   "metadata": {},
   "outputs": [],
   "source": [
    "vocab_size_test = [90000, 100000, 110000, 120000]\n",
    "for i in vocab_size_test:\n",
    "    test_hyper_para_on_val(emb_dim=400, vocabulary_size=i)"
   ]
  },
  {
   "cell_type": "code",
   "execution_count": null,
   "metadata": {},
   "outputs": [],
   "source": [
    "# N=4\n",
    "# Rerun the function to_N_gram(dataset, N) for N=3 and 4\n",
    "# 4113005 different tokens in total\n",
    "\n",
    "train_tokens_bi, all_tokens_bi = to_N_gram(train_tokens, 4)\n",
    "val_tokens_bi, _ = to_N_gram(val_tokens, 4)\n",
    "test_tokens_bi, _ = to_N_gram(test_tokens, 4)"
   ]
  },
  {
   "cell_type": "code",
   "execution_count": null,
   "metadata": {},
   "outputs": [],
   "source": [
    "vocab_size_test = [170000, 180000, 190000, 200000]\n",
    "for i in vocab_size_test:\n",
    "    test_hyper_para_on_val(vocabulary_size=i)"
   ]
  },
  {
   "cell_type": "markdown",
   "metadata": {},
   "source": [
    "### Testing"
   ]
  },
  {
   "cell_type": "code",
   "execution_count": 13,
   "metadata": {},
   "outputs": [
    {
     "name": "stderr",
     "output_type": "stream",
     "text": [
      "100%|██████████| 20000/20000 [00:03<00:00, 5363.23it/s]\n",
      "100%|██████████| 5000/5000 [00:00<00:00, 7766.03it/s]\n",
      "100%|██████████| 25000/25000 [00:03<00:00, 7835.18it/s]\n"
     ]
    },
    {
     "name": "stdout",
     "output_type": "stream",
     "text": [
      "----------------------------------------------------------------------------------------------------\n",
      "Embed dim: 200 ; Vocab size: 20000; Optim: Adam; LR: 0.001; Annealing: True; Sent_length: 700\n",
      "----------------------------------------------------------------------------------------------------\n",
      "Total number of tokens:  1203340\n",
      "Construct model with vocab size 20002 and emb dim 200\n",
      "Epoch 0/49\n",
      "train Loss: 0.7139 Acc: 65.2250\n",
      "val Loss: 0.5815 Acc: 75.2000\n",
      "Epoch 1/49\n",
      "train Loss: 0.4625 Acc: 83.5400\n",
      "val Loss: 0.4061 Acc: 84.6400\n",
      "Epoch 2/49\n",
      "train Loss: 0.3192 Acc: 88.8100\n",
      "val Loss: 0.3549 Acc: 84.8800\n",
      "Epoch 3/49\n",
      "train Loss: 0.2487 Acc: 91.5550\n",
      "val Loss: 0.3161 Acc: 86.9000\n",
      "Epoch 4/49\n",
      "train Loss: 0.2046 Acc: 93.6400\n",
      "val Loss: 0.3091 Acc: 87.5200\n",
      "Epoch 5/49\n",
      "train Loss: 0.1848 Acc: 94.3150\n",
      "val Loss: 0.3048 Acc: 87.3200\n",
      "Epoch 6/49\n",
      "train Loss: 0.1671 Acc: 94.9800\n",
      "val Loss: 0.3034 Acc: 87.4800\n",
      "Training complete in 0m 38s\n",
      "Best val Acc: 87.520000\n",
      "Finished!\n"
     ]
    }
   ],
   "source": [
    "train_tokens_bi, all_tokens_bi = to_N_gram(train_tokens, 2)\n",
    "val_tokens_bi, _ = to_N_gram(val_tokens, 2)\n",
    "test_tokens_bi, _ = to_N_gram(test_tokens, 2)\n",
    "\n",
    "model, log = test_hyper_para_on_val(num_epochs=50, emb_dim=200, vocabulary_size=20000, annealing=True, opm=\"Adam\", lr=0.001, sent_length=700)"
   ]
  },
  {
   "cell_type": "code",
   "execution_count": 14,
   "metadata": {},
   "outputs": [],
   "source": [
    "def test_model(loader, model):\n",
    "    \"\"\"\n",
    "    Help function that tests the model's performance on a dataset\n",
    "    @param: loader - data loader for the dataset to test against\n",
    "    \"\"\"\n",
    "    correct = 0\n",
    "    total = 0\n",
    "    model.eval()\n",
    "    for data, lengths, labels in loader:\n",
    "        data_batch, length_batch, label_batch = data, lengths, labels\n",
    "        outputs = model(data_batch, length_batch)\n",
    "        predicted = outputs.max(1, keepdim=True)[1]\n",
    "        \n",
    "        total += labels.size(0)\n",
    "        correct += predicted.eq(labels.view_as(predicted)).sum().item()\n",
    "#     print (total)\n",
    "    return (100 * correct / total)"
   ]
  },
  {
   "cell_type": "code",
   "execution_count": 15,
   "metadata": {},
   "outputs": [
    {
     "data": {
      "text/plain": [
       "86.788"
      ]
     },
     "execution_count": 15,
     "metadata": {},
     "output_type": "execute_result"
    }
   ],
   "source": [
    "model = model.to('cpu')\n",
    "test_model(test_loader, model)"
   ]
  },
  {
   "cell_type": "code",
   "execution_count": 16,
   "metadata": {},
   "outputs": [
    {
     "data": {
      "image/png": "[encoded data removed]",
      "text/plain": [
       "<matplotlib.figure.Figure at 0x2b1af289a5c0>"
      ]
     },
     "metadata": {
      "needs_background": "light"
     },
     "output_type": "display_data"
    }
   ],
   "source": [
    "import matplotlib.pyplot as plt\n",
    "%matplotlib inline\n",
    "\n",
    "plt.figure(figsize=(10,10))\n",
    "for key, curve in log.items():\n",
    "    if 'loss' in key:\n",
    "        x = np.arange(len(curve))\n",
    "        plt.plot(x, curve, label=key)\n",
    "plt.legend(loc='best')\n",
    "plt.title('Training loss')\n",
    "plt.ylabel('loss')\n",
    "plt.xlabel('epochs')\n",
    "# plt.show()\n",
    "plt.savefig('Training loss.png')"
   ]
  },
  {
   "cell_type": "code",
   "execution_count": 17,
   "metadata": {},
   "outputs": [
    {
     "data": {
      "image/png": "[encoded data removed]",
      "text/plain": [
       "<matplotlib.figure.Figure at 0x2b1adbf937f0>"
      ]
     },
     "metadata": {
      "needs_background": "light"
     },
     "output_type": "display_data"
    }
   ],
   "source": [
    "plt.figure(figsize=(10,10))\n",
    "for key, curve in log.items():\n",
    "    if 'acc' in key:\n",
    "        x = np.arange(len(curve))\n",
    "        plt.plot(x, curve, label=key)\n",
    "plt.legend(loc='best')\n",
    "plt.title('Training acc')\n",
    "plt.ylabel('acc')\n",
    "plt.xlabel('epochs')\n",
    "# plt.show()\n",
    "plt.savefig('Training acc.png')"
   ]
  },
  {
   "cell_type": "markdown",
   "metadata": {},
   "source": [
    "# Run for another time, so the results might be slightly different"
   ]
  },
  {
   "cell_type": "code",
   "execution_count": null,
   "metadata": {},
   "outputs": [],
   "source": []
  }
 ],
 "metadata": {
  "anaconda-cloud": {},
  "kernelspec": {
   "display_name": "Python [default]",
   "language": "python",
   "name": "python3"
  },
  "language_info": {
   "codemirror_mode": {
    "name": "ipython",
    "version": 3
   },
   "file_extension": ".py",
   "mimetype": "text/x-python",
   "name": "python",
   "nbconvert_exporter": "python",
   "pygments_lexer": "ipython3",
   "version": "3.5.2"
  }
 },
 "nbformat": 4,
 "nbformat_minor": 2
}
